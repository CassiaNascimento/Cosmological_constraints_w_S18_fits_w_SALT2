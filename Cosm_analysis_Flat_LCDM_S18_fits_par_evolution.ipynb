{
 "cells": [
  {
   "cell_type": "code",
   "execution_count": 1,
   "id": "50088d64-8c9b-4958-85af-61a53bb56a02",
   "metadata": {},
   "outputs": [
    {
     "name": "stderr",
     "output_type": "stream",
     "text": [
      "WARNING: AstropyDeprecationWarning: The update_default_config function is deprecated and may be removed in a future version. [sncosmo]\n"
     ]
    }
   ],
   "source": [
    "import numpy as np\n",
    "import matplotlib.pyplot as plt\n",
    "import scipy.integrate as integrate\n",
    "from scipy import interpolate\n",
    "import pandas as pd\n",
    "import sncosmo\n",
    "import emcee\n",
    "from multiprocessing import Pool\n",
    "import corner\n",
    "import glob\n",
    "import quadpy\n",
    "from scipy.optimize import minimize\n",
    "from IPython.display import display, Math\n",
    "import getdist\n",
    "from getdist import plots, MCSamples\n",
    "\n",
    "gk = quadpy.c1.gauss_kronrod(40)"
   ]
  },
  {
   "cell_type": "code",
   "execution_count": 2,
   "id": "70393ce1-c124-4309-8c2b-c4fa10a3f056",
   "metadata": {},
   "outputs": [],
   "source": [
    "class cosmo:\n",
    "    def __init__(self, data):\n",
    "        self.data = data\n",
    "    \n",
    "    def salt2_model(self,theta):\n",
    "        M, alpha, beta, sigma=theta\n",
    "\n",
    "        Om= 0.34334826\n",
    "        \n",
    "        h_inv=lambda x: 1./np.sqrt(Om*(1+x)**3.+(1-Om))\n",
    "        integral=gk.integrate(h_inv,[np.array([0.]*len(self.data[\"z\"])),np.array(self.data[\"z\"])])\n",
    "        \n",
    "        model=5*np.log10((1+self.data[\"z\"])*integral)+M\n",
    "        mu=self.data[\"mB\"]+self.data[\"x1\"]*alpha-self.data[\"c\"]*beta\n",
    "    \n",
    "        sigmaz=0.0012*(5/np.log(10.))*(1.+self.data[\"z\"])/(self.data[\"z\"]*(1.+self.data[\"z\"]/2.))\n",
    "        \n",
    "        cov=2.*alpha*self.data[\"cov_mB_x1\"]-2.*beta*self.data[\"cov_mB_c\"]-2.*alpha*beta*self.data[\"cov_x1_c\"]\n",
    "        sigmalens=0.055*self.data[\"z\"]\n",
    "        sigma2=sigma**2.+sigmaz**2.+self.data[\"mBerr\"]**2+alpha**2.*self.data[\"x1err\"]**2+beta**2.*self.data[\"cerr\"]**2.+cov+sigmalens**2.\n",
    "        lnlike=-0.5*np.sum((mu-model)**2./sigma2 + np.log(2*np.pi*sigma2))\n",
    "        \n",
    "        return -lnlike\n",
    "    \n",
    "    def salt2_model_w_bias_cor(self,theta):\n",
    "        M, alpha, beta, sigma=theta\n",
    "        \n",
    "        Om= 0.34334826\n",
    "\n",
    "        h_inv=lambda x: 1./np.sqrt(Om*(1+x)**3.+(1-Om))\n",
    "        integral=gk.integrate(h_inv,[np.array([0.]*len(self.data[\"z\"])),np.array(self.data[\"z\"])])\n",
    "                \n",
    "        model=5*np.log10((1+self.data[\"z\"])*integral)+M\n",
    "        mu=self.data[\"mB\"]+self.data[\"x1\"]*alpha-self.data[\"c\"]*beta\n",
    "    \n",
    "        sigmaz=0.0012*(5/np.log(10.))*(1.+self.data[\"z\"])/(self.data[\"z\"]*(1.+self.data[\"z\"]/2.))\n",
    "\n",
    "        biascor=self.data[\"biasCor_mB\"]-beta*self.data[\"biasCor_c\"]+alpha*self.data[\"biasCor_x1\"]\n",
    "        cov=2.*alpha*self.data[\"cov_mB_x1\"]-2.*beta*self.data[\"cov_mB_c\"]-2.*alpha*beta*self.data[\"cov_x1_c\"]\n",
    "        sigmalens=0.055*self.data[\"z\"]\n",
    "        sigma2=sigma**2.+sigmaz**2.+self.data[\"mBerr\"]**2+alpha**2.*self.data[\"x1err\"]**2+beta**2.*self.data[\"cerr\"]**2.+cov+sigmalens**2.\n",
    "        lnlike=-0.5*np.sum((mu-model-biascor)**2./sigma2 + np.log(2*np.pi*sigma2))\n",
    "\n",
    "        return -lnlike\n",
    "    \n",
    "    def salt2_model_w_gamma(self,theta):\n",
    "        M, alpha, beta, gamma, sigma=theta\n",
    "        \n",
    "        Om= 0.34334826\n",
    "\n",
    "        h_inv=lambda x: 1./np.sqrt(Om*(1+x)**3.+(1-Om))\n",
    "        integral=gk.integrate(h_inv,[np.array([0.]*len(self.data[\"z\"])),np.array(self.data[\"z\"])])\n",
    "\n",
    "        model=5*np.log10((1+self.data[\"z\"])*integral)+M\n",
    "        mu=self.data[\"mB\"]-2.5*np.log10(1.-self.data[\"x1\"]*alpha+self.data[\"c\"]*beta-gamma*self.data[\"x1\"]*self.data[\"c\"])\n",
    "    \n",
    "        sigmaz=0.0012*(5/np.log(10.))*(1.+self.data[\"z\"])/(self.data[\"z\"]*(1.+self.data[\"z\"]/2.))\n",
    "\n",
    "        fator=-2.5*np.log10(np.e)/(1.-self.data[\"x1\"]*alpha+self.data[\"c\"]*beta-gamma*self.data[\"x1\"]*self.data[\"c\"])\n",
    "        cov=2.*(-alpha-gamma*self.data[\"c\"])*self.data[\"cov_mB_x1\"]*fator+2.*(beta-gamma*self.data[\"x1\"])*self.data[\"cov_mB_c\"]*fator+2.*(-alpha-gamma*self.data[\"c\"])*(beta-gamma*self.data[\"x1\"])*self.data[\"cov_x1_c\"]*fator**2.\n",
    "        sigmalens=0.055*self.data[\"z\"]        \n",
    "        sigma2=sigma**2.+sigmaz**2.+self.data[\"mBerr\"]**2+((-alpha-gamma*self.data[\"c\"])**2.*self.data[\"x1err\"]**2+(beta-gamma*self.data[\"x1\"])**2.*self.data[\"cerr\"]**2.)*fator**2.+cov+sigmalens**2.\n",
    "        lnlike=-0.5*np.sum((mu-model)**2./sigma2 + np.log(2*np.pi*sigma2))\n",
    "\n",
    "        return -lnlike\n",
    "    \n",
    "    def salt2_model_w_new_par(self,theta):\n",
    "        M, alpha, beta, gamma, delta, tau, sigma=theta\n",
    "        \n",
    "        Om= 0.34334826\n",
    "\n",
    "        h_inv=lambda x: 1./np.sqrt(Om*(1+x)**3.+(1-Om))\n",
    "        integral=gk.integrate(h_inv,[np.array([0.]*len(self.data[\"z\"])),np.array(self.data[\"z\"])])\n",
    "\n",
    "        model=5*np.log10((1+self.data[\"z\"])*integral)+M\n",
    "        mu=self.data[\"mB\"]-2.5*np.log10(1.-self.data[\"x1\"]*alpha+self.data[\"c\"]*beta-gamma*self.data[\"x1\"]*self.data[\"c\"]+delta*self.data[\"c\"]**2-tau*self.data[\"x1\"]*self.data[\"c\"]**2)\n",
    "    \n",
    "        sigmaz=0.0012*(5/np.log(10.))*(1.+self.data[\"z\"])/(self.data[\"z\"]*(1.+self.data[\"z\"]/2.))\n",
    "\n",
    "        fator=-2.5*np.log10(np.e)/(1.-self.data[\"x1\"]*alpha+self.data[\"c\"]*beta-gamma*self.data[\"x1\"]*self.data[\"c\"]+delta*self.data[\"c\"]**2-tau*self.data[\"x1\"]*self.data[\"c\"]**2)\n",
    "        cov=2.*(-alpha-gamma*self.data[\"c\"]-tau*self.data[\"c\"]**2)*self.data[\"cov_mB_x1\"]*fator+2.*(beta-gamma*self.data[\"x1\"]+2*delta*self.data[\"c\"])*self.data[\"cov_mB_c\"]*fator+2.*(-alpha-gamma*self.data[\"c\"]-tau*self.data[\"c\"]**2)*(beta-gamma*self.data[\"x1\"]+2*delta*self.data[\"c\"])*self.data[\"cov_x1_c\"]*fator**2.\n",
    "        sigmalens=0.055*self.data[\"z\"]        \n",
    "        sigma2=sigma**2.+sigmaz**2.+self.data[\"mBerr\"]**2+((-alpha-gamma*self.data[\"c\"]-tau*self.data[\"c\"]**2)**2.*self.data[\"x1err\"]**2+(beta-gamma*self.data[\"x1\"]+2*delta*self.data[\"c\"])**2.*self.data[\"cerr\"]**2.)*fator**2.+cov+sigmalens**2.\n",
    "        lnlike=-0.5*np.sum((mu-model)**2./sigma2 + np.log(2*np.pi*sigma2))\n",
    "\n",
    "        return -lnlike"
   ]
  },
  {
   "cell_type": "markdown",
   "id": "f30e8444-7044-486d-bec7-5c840a489c08",
   "metadata": {
    "tags": []
   },
   "source": [
    "## Carregando dados"
   ]
  },
  {
   "cell_type": "code",
   "execution_count": 3,
   "id": "29d209f2-ebc8-4568-a89a-1bdbb4c5c4b5",
   "metadata": {
    "tags": []
   },
   "outputs": [],
   "source": [
    "pant=pd.read_csv(\"pantheon_original_fit.txt\",sep=\"\\s+\")"
   ]
  },
  {
   "cell_type": "code",
   "execution_count": 4,
   "id": "c6499270-4d03-4a1a-bea3-8939898d5655",
   "metadata": {},
   "outputs": [],
   "source": [
    "cov_mB_x1=-2.5*np.log10(np.e)/pant[\"x0\"]*pant[\"COV_x1_x0\"]\n",
    "cov_mB_c=-2.5*np.log10(np.e)/pant[\"x0\"]*pant[\"COV_c_x0\"]"
   ]
  },
  {
   "cell_type": "code",
   "execution_count": 5,
   "id": "b06f4fb4-84cb-4846-8a1e-3cbb7af14547",
   "metadata": {},
   "outputs": [],
   "source": [
    "data=pant[[\"zCMB\",\"zCMBERR\",\"mB\",\"mBERR\",\"x1\",\"x1ERR\",\"c\",\"cERR\",\"COV_x1_c\",\"biasCor_mB\",\"biasCor_x1\",\"biasCor_c\"]]"
   ]
  },
  {
   "cell_type": "code",
   "execution_count": 6,
   "id": "1e789fde-1548-4e44-bfb0-165f51896143",
   "metadata": {},
   "outputs": [],
   "source": [
    "data.insert(9, \"cov_mB_x1\",cov_mB_x1, True)\n",
    "data.insert(10, \"cov_mB_c\",cov_mB_c, True)"
   ]
  },
  {
   "cell_type": "code",
   "execution_count": 7,
   "id": "85a6ab00-243f-4729-b3bf-39e99216ff99",
   "metadata": {},
   "outputs": [],
   "source": [
    "data.columns=[\"z\",\"zerr\",\"mB\",\"mBerr\",\"x1\",\"x1err\",\"c\",\"cerr\",\"cov_x1_c\",\"cov_mB_x1\",\"cov_mB_c\",\"biasCor_mB\",\"biasCor_x1\",\"biasCor_c\"]"
   ]
  },
  {
   "cell_type": "code",
   "execution_count": 8,
   "id": "b02deaba-9b70-40e0-988b-4ce155314566",
   "metadata": {},
   "outputs": [],
   "source": [
    "data_sorted=data.sort_values(by=[\"z\"]).reset_index(drop=True)"
   ]
  },
  {
   "cell_type": "code",
   "execution_count": 9,
   "id": "aa610dc5-06b6-4dba-9338-b79a22b6ce4b",
   "metadata": {},
   "outputs": [
    {
     "data": {
      "text/plain": [
       "array([0.        , 0.02857143, 0.05714286, 0.08571429, 0.11428571,\n",
       "       0.14285714, 0.17142857, 0.2       , 0.22857143, 0.25714286,\n",
       "       0.28571429, 0.31428571, 0.34285714, 0.37142857, 0.4       ])"
      ]
     },
     "execution_count": 9,
     "metadata": {},
     "output_type": "execute_result"
    }
   ],
   "source": [
    "np.linspace(0.,.4,15)"
   ]
  },
  {
   "cell_type": "code",
   "execution_count": 10,
   "id": "e9f638e5-00a2-475c-a5b7-4d123b729fb4",
   "metadata": {},
   "outputs": [
    {
     "data": {
      "text/plain": [
       "array([0.4 , 0.55, 0.7 , 0.85, 1.  ])"
      ]
     },
     "execution_count": 10,
     "metadata": {},
     "output_type": "execute_result"
    }
   ],
   "source": [
    "np.linspace(0.4,1.,5)"
   ]
  },
  {
   "cell_type": "code",
   "execution_count": 34,
   "id": "93a6942c-4496-4e3e-829b-e1177bd13d1e",
   "metadata": {},
   "outputs": [],
   "source": [
    "red_bins=np.concatenate((np.linspace(0.,0.05,2),np.linspace(0.05,0.15,2)[1:],np.linspace(0.15,0.25,3)[1:],np.linspace(0.25,0.4,3)[1:],np.linspace(0.4,0.6,2)[1:],np.linspace(0.6,0.8,2)[1:]),axis=0)"
   ]
  },
  {
   "cell_type": "code",
   "execution_count": 12,
   "id": "4d08fd83-833e-470b-8ab3-4d47e8416483",
   "metadata": {},
   "outputs": [],
   "source": [
    "red_binned_data=dict()"
   ]
  },
  {
   "cell_type": "code",
   "execution_count": 13,
   "id": "93d96811-79db-43f0-b58b-f57bcd310206",
   "metadata": {},
   "outputs": [
    {
     "data": {
      "text/plain": [
       "(array([105.,  59.,  27.,  19.,  32.,  44.,  44.,  58.,  54.,  45.,  59.,\n",
       "         45.,  45.,  37.,  35.,  29.,  28.,  13.,  20.,  13.,  18.,   8.,\n",
       "         14.,   8.,   9.,  18.,   7.,  11.,   5.,   6.,  13.,   7.,  15.,\n",
       "         11.,   3.,  11.,   8.,   8.,   5.,   4.,   8.,   7.,   5.,   5.,\n",
       "          3.,   1.,   1.,   0.,   1.,   1.,   0.,   0.,   0.,   1.,   2.,\n",
       "          0.,   0.,   2.,   2.,   1.,   1.,   1.,   0.,   0.,   0.,   0.,\n",
       "          0.,   0.,   2.,   0.,   0.,   0.,   0.,   0.,   0.,   1.,   0.,\n",
       "          0.,   0.,   1.,   0.,   0.,   0.,   0.,   1.,   0.,   0.,   0.,\n",
       "          0.,   0.,   0.,   0.,   0.,   0.,   0.,   0.,   0.,   0.,   0.,\n",
       "          1.]),\n",
       " array([0.00931  , 0.0318169, 0.0543238, 0.0768307, 0.0993376, 0.1218445,\n",
       "        0.1443514, 0.1668583, 0.1893652, 0.2118721, 0.234379 , 0.2568859,\n",
       "        0.2793928, 0.3018997, 0.3244066, 0.3469135, 0.3694204, 0.3919273,\n",
       "        0.4144342, 0.4369411, 0.459448 , 0.4819549, 0.5044618, 0.5269687,\n",
       "        0.5494756, 0.5719825, 0.5944894, 0.6169963, 0.6395032, 0.6620101,\n",
       "        0.684517 , 0.7070239, 0.7295308, 0.7520377, 0.7745446, 0.7970515,\n",
       "        0.8195584, 0.8420653, 0.8645722, 0.8870791, 0.909586 , 0.9320929,\n",
       "        0.9545998, 0.9771067, 0.9996136, 1.0221205, 1.0446274, 1.0671343,\n",
       "        1.0896412, 1.1121481, 1.134655 , 1.1571619, 1.1796688, 1.2021757,\n",
       "        1.2246826, 1.2471895, 1.2696964, 1.2922033, 1.3147102, 1.3372171,\n",
       "        1.359724 , 1.3822309, 1.4047378, 1.4272447, 1.4497516, 1.4722585,\n",
       "        1.4947654, 1.5172723, 1.5397792, 1.5622861, 1.584793 , 1.6072999,\n",
       "        1.6298068, 1.6523137, 1.6748206, 1.6973275, 1.7198344, 1.7423413,\n",
       "        1.7648482, 1.7873551, 1.809862 , 1.8323689, 1.8548758, 1.8773827,\n",
       "        1.8998896, 1.9223965, 1.9449034, 1.9674103, 1.9899172, 2.0124241,\n",
       "        2.034931 , 2.0574379, 2.0799448, 2.1024517, 2.1249586, 2.1474655,\n",
       "        2.1699724, 2.1924793, 2.2149862, 2.2374931, 2.26     ]),\n",
       " <BarContainer object of 100 artists>)"
      ]
     },
     "execution_count": 13,
     "metadata": {},
     "output_type": "execute_result"
    },
    {
     "data": {
      "image/png": "[encoded data removed]",
      "text/plain": [
       "<Figure size 432x288 with 1 Axes>"
      ]
     },
     "metadata": {
      "needs_background": "light"
     },
     "output_type": "display_data"
    }
   ],
   "source": [
    "plt.hist(data_sorted[\"z\"],bins=100)"
   ]
  },
  {
   "cell_type": "code",
   "execution_count": 36,
   "id": "a551aeb0-592f-4656-af65-b43fec8affba",
   "metadata": {},
   "outputs": [
    {
     "name": "stdout",
     "output_type": "stream",
     "text": [
      "(0.0, 0.05)\n",
      "157\n",
      "(0.05, 0.15)\n",
      "140\n",
      "(0.15, 0.2)\n",
      "114\n",
      "(0.2, 0.25)\n",
      "120\n",
      "(0.25, 0.325)\n",
      "142\n",
      "(0.325, 0.4)\n",
      "93\n",
      "(0.4, 0.6)\n",
      "120\n",
      "(0.6, 0.8)\n",
      "80\n"
     ]
    }
   ],
   "source": [
    "for i in range(8):\n",
    "    print((red_bins[i],red_bins[i+1])) # 6 intervalos\n",
    "    red_binned_data[i]=data_sorted[(data_sorted[\"z\"]>red_bins[i]) & (data_sorted[\"z\"]<=red_bins[i+1])].reset_index(drop=True)\n",
    "    print(len(red_binned_data[i]))"
   ]
  },
  {
   "cell_type": "markdown",
   "id": "4bb74c63-7f23-4d8a-929d-4dbbb48301a4",
   "metadata": {
    "jp-MarkdownHeadingCollapsed": true,
    "tags": []
   },
   "source": [
    "#### Scipy Minimization"
   ]
  },
  {
   "cell_type": "code",
   "execution_count": 15,
   "id": "5a904ac8-856d-4e5e-bac0-40b8a7c5a900",
   "metadata": {},
   "outputs": [],
   "source": [
    "x0 = [0.3,24.,0.15,3.5,0.1] # NÃO ESQUECER DE TROCAR O VALOR DO LNLIKE RETORNADO"
   ]
  },
  {
   "cell_type": "code",
   "execution_count": 16,
   "id": "77c94dac-d1cc-42f3-9719-35e377cdf1b5",
   "metadata": {},
   "outputs": [
    {
     "ename": "NameError",
     "evalue": "name 'cosmo_salt2' is not defined",
     "output_type": "error",
     "traceback": [
      "\u001b[0;31m---------------------------------------------------------------------------\u001b[0m",
      "\u001b[0;31mNameError\u001b[0m                                 Traceback (most recent call last)",
      "Input \u001b[0;32mIn [16]\u001b[0m, in \u001b[0;36m<cell line: 1>\u001b[0;34m()\u001b[0m\n\u001b[0;32m----> 1\u001b[0m res \u001b[38;5;241m=\u001b[39m minimize(\u001b[43mcosmo_salt2\u001b[49m\u001b[38;5;241m.\u001b[39msalt2_model, x0, method\u001b[38;5;241m=\u001b[39m\u001b[38;5;124m'\u001b[39m\u001b[38;5;124mNelder-Mead\u001b[39m\u001b[38;5;124m'\u001b[39m, options\u001b[38;5;241m=\u001b[39m{\u001b[38;5;124m'\u001b[39m\u001b[38;5;124mxatol\u001b[39m\u001b[38;5;124m'\u001b[39m: \u001b[38;5;241m1e-8\u001b[39m, \u001b[38;5;124m'\u001b[39m\u001b[38;5;124mdisp\u001b[39m\u001b[38;5;124m'\u001b[39m: \u001b[38;5;28;01mTrue\u001b[39;00m})\n",
      "\u001b[0;31mNameError\u001b[0m: name 'cosmo_salt2' is not defined"
     ]
    }
   ],
   "source": [
    "res = minimize(cosmo_salt2.salt2_model, x0, method='Nelder-Mead', options={'xatol': 1e-8, 'disp': True})"
   ]
  },
  {
   "cell_type": "code",
   "execution_count": 17,
   "id": "b34e947b-3cee-4c36-8243-a02cbb08a6a6",
   "metadata": {},
   "outputs": [
    {
     "ename": "NameError",
     "evalue": "name 'res' is not defined",
     "output_type": "error",
     "traceback": [
      "\u001b[0;31m---------------------------------------------------------------------------\u001b[0m",
      "\u001b[0;31mNameError\u001b[0m                                 Traceback (most recent call last)",
      "Input \u001b[0;32mIn [17]\u001b[0m, in \u001b[0;36m<cell line: 1>\u001b[0;34m()\u001b[0m\n\u001b[0;32m----> 1\u001b[0m \u001b[43mres\u001b[49m\u001b[38;5;241m.\u001b[39mx\n",
      "\u001b[0;31mNameError\u001b[0m: name 'res' is not defined"
     ]
    }
   ],
   "source": [
    "res.x"
   ]
  },
  {
   "cell_type": "markdown",
   "id": "229dc960-e8fd-4598-9277-bb15cd04e3aa",
   "metadata": {
    "tags": []
   },
   "source": [
    "#### Minimizando para cada bin de redshift SALT2"
   ]
  },
  {
   "cell_type": "code",
   "execution_count": 37,
   "id": "118dc5d6-0c91-487e-b6d9-a04b374c85a1",
   "metadata": {},
   "outputs": [],
   "source": [
    "x0 = [24.,0.15,3.5,0.1]"
   ]
  },
  {
   "cell_type": "code",
   "execution_count": 38,
   "id": "d481207e-26f8-45c8-a83b-382afe60daf3",
   "metadata": {},
   "outputs": [],
   "source": [
    "M_red_dep=[]\n",
    "alpha_red_dep=[]\n",
    "beta_red_dep=[]\n",
    "sig_int_red_dep=[]"
   ]
  },
  {
   "cell_type": "code",
   "execution_count": 39,
   "id": "60f5a724-a5f7-455e-939f-02f2ba7c16b0",
   "metadata": {
    "tags": []
   },
   "outputs": [],
   "source": [
    "for i in range(8):\n",
    "    #print(len(red_binned_data[i]))\n",
    "    cosmo_binned=cosmo(red_binned_data[i])\n",
    "    res = minimize(cosmo_binned.salt2_model, x0, method='Nelder-Mead', options={'xatol': 1e-8, 'disp': False})\n",
    "    M_red_dep.append(res.x[0])\n",
    "    alpha_red_dep.append(res.x[1])\n",
    "    beta_red_dep.append(res.x[2])\n",
    "    sig_int_red_dep.append(res.x[3])"
   ]
  },
  {
   "cell_type": "code",
   "execution_count": 40,
   "id": "826151ab-e56f-4d07-abae-5c272be7291c",
   "metadata": {},
   "outputs": [],
   "source": [
    "red_mean=[]\n",
    "for i in range(8):\n",
    "    red_mean.append(np.mean([red_bins[i],red_bins[i+1]]))"
   ]
  },
  {
   "cell_type": "code",
   "execution_count": 41,
   "id": "3f4d9ffd-3325-4ce0-9e9a-f5678ea9390d",
   "metadata": {},
   "outputs": [
    {
     "data": {
      "text/plain": [
       "Text(0, 0.5, '$\\\\alpha$')"
      ]
     },
     "execution_count": 41,
     "metadata": {},
     "output_type": "execute_result"
    },
    {
     "data": {
      "image/png": "[encoded data removed]",
      "text/plain": [
       "<Figure size 432x288 with 1 Axes>"
      ]
     },
     "metadata": {
      "needs_background": "light"
     },
     "output_type": "display_data"
    }
   ],
   "source": [
    "plt.plot(red_mean,np.array(alpha_red_dep),'.')\n",
    "plt.xlabel(\"z\")\n",
    "plt.ylabel(r\"$\\alpha$\")"
   ]
  },
  {
   "cell_type": "code",
   "execution_count": 42,
   "id": "be9615ca-6853-4dac-b03b-983610ff5230",
   "metadata": {},
   "outputs": [
    {
     "data": {
      "text/plain": [
       "Text(0, 0.5, '$\\\\beta$')"
      ]
     },
     "execution_count": 42,
     "metadata": {},
     "output_type": "execute_result"
    },
    {
     "data": {
      "image/png": "[encoded data removed]",
      "text/plain": [
       "<Figure size 432x288 with 1 Axes>"
      ]
     },
     "metadata": {
      "needs_background": "light"
     },
     "output_type": "display_data"
    }
   ],
   "source": [
    "plt.plot(red_mean,np.array(beta_red_dep),'.')\n",
    "plt.xlabel(\"z\")\n",
    "plt.ylabel(r\"$\\beta$\")"
   ]
  },
  {
   "cell_type": "code",
   "execution_count": 43,
   "id": "b0478171-c5b3-4d8a-97c8-33cbdf818358",
   "metadata": {},
   "outputs": [
    {
     "data": {
      "text/plain": [
       "Text(0, 0.5, '$\\\\mathcal{M}$')"
      ]
     },
     "execution_count": 43,
     "metadata": {},
     "output_type": "execute_result"
    },
    {
     "data": {
      "image/png": "[encoded data removed]",
      "text/plain": [
       "<Figure size 432x288 with 1 Axes>"
      ]
     },
     "metadata": {
      "needs_background": "light"
     },
     "output_type": "display_data"
    }
   ],
   "source": [
    "plt.plot(red_mean,np.array(M_red_dep),'.')\n",
    "plt.xlabel(\"z\")\n",
    "plt.ylabel(r\"$\\mathcal{M}$\")"
   ]
  },
  {
   "cell_type": "code",
   "execution_count": 44,
   "id": "e9a28d87-609b-4a61-b39a-e90d8e9e75c7",
   "metadata": {},
   "outputs": [
    {
     "data": {
      "text/plain": [
       "Text(0, 0.5, '$\\\\sigma_{int}$')"
      ]
     },
     "execution_count": 44,
     "metadata": {},
     "output_type": "execute_result"
    },
    {
     "data": {
      "image/png": "[encoded data removed]",
      "text/plain": [
       "<Figure size 432x288 with 1 Axes>"
      ]
     },
     "metadata": {
      "needs_background": "light"
     },
     "output_type": "display_data"
    }
   ],
   "source": [
    "plt.plot(red_mean,np.array(sig_int_red_dep),'.')\n",
    "plt.xlabel(\"z\")\n",
    "plt.ylabel(r\"$\\sigma_{int}$\")"
   ]
  },
  {
   "cell_type": "markdown",
   "id": "06fda9ba-5efd-4d97-98da-8b37285486c6",
   "metadata": {
    "jp-MarkdownHeadingCollapsed": true,
    "tags": []
   },
   "source": [
    "#### Minimizando para cada bin de redshift SALT2 correção de bias"
   ]
  },
  {
   "cell_type": "code",
   "execution_count": 22,
   "id": "8ea061d5-d2eb-42dd-bdf8-ba7b281aaf9e",
   "metadata": {},
   "outputs": [],
   "source": [
    "x0 = [24.,0.15,3.5,0.1]"
   ]
  },
  {
   "cell_type": "code",
   "execution_count": 23,
   "id": "1b3f3f69-3986-4c7c-85be-2ee114bb9943",
   "metadata": {},
   "outputs": [],
   "source": [
    "M_red_dep=[]\n",
    "alpha_red_dep=[]\n",
    "beta_red_dep=[]\n",
    "sig_int_red_dep=[]"
   ]
  },
  {
   "cell_type": "code",
   "execution_count": 24,
   "id": "f3a5a19e-56e6-4a0b-ad31-511051f9a92f",
   "metadata": {
    "tags": []
   },
   "outputs": [],
   "source": [
    "for i in range(10):\n",
    "    #print(len(red_binned_data[i]))\n",
    "    cosmo_binned=cosmo(red_binned_data[i])\n",
    "    res = minimize(cosmo_binned.salt2_model_w_bias_cor, x0, method='Nelder-Mead', options={'xatol': 1e-8, 'disp': False})\n",
    "    M_red_dep.append(res.x[0])\n",
    "    alpha_red_dep.append(res.x[1])\n",
    "    beta_red_dep.append(res.x[2])\n",
    "    sig_int_red_dep.append(res.x[3])"
   ]
  },
  {
   "cell_type": "code",
   "execution_count": 25,
   "id": "8ec629f6-fb38-4d3d-8bc6-a93b544bce5b",
   "metadata": {},
   "outputs": [],
   "source": [
    "red_mean=[]\n",
    "for i in range(10):\n",
    "    red_mean.append(np.mean([red_bins[i],red_bins[i+1]]))"
   ]
  },
  {
   "cell_type": "code",
   "execution_count": 26,
   "id": "00a84075-a365-459f-b719-707b7e411976",
   "metadata": {},
   "outputs": [
    {
     "data": {
      "text/plain": [
       "Text(0, 0.5, '$\\\\alpha$')"
      ]
     },
     "execution_count": 26,
     "metadata": {},
     "output_type": "execute_result"
    },
    {
     "data": {
      "image/png": "[encoded data removed]",
      "text/plain": [
       "<Figure size 432x288 with 1 Axes>"
      ]
     },
     "metadata": {
      "needs_background": "light"
     },
     "output_type": "display_data"
    }
   ],
   "source": [
    "plt.plot(red_mean,np.array(alpha_red_dep),'.')\n",
    "plt.xlabel(\"z\")\n",
    "plt.ylabel(r\"$\\alpha$\")"
   ]
  },
  {
   "cell_type": "code",
   "execution_count": 27,
   "id": "6df32304-2898-4f82-8f86-46d3e7fc818d",
   "metadata": {},
   "outputs": [
    {
     "data": {
      "text/plain": [
       "Text(0, 0.5, '$\\\\beta$')"
      ]
     },
     "execution_count": 27,
     "metadata": {},
     "output_type": "execute_result"
    },
    {
     "data": {
      "image/png": "[encoded data removed]",
      "text/plain": [
       "<Figure size 432x288 with 1 Axes>"
      ]
     },
     "metadata": {
      "needs_background": "light"
     },
     "output_type": "display_data"
    }
   ],
   "source": [
    "plt.plot(red_mean,np.array(beta_red_dep),'.')\n",
    "plt.xlabel(\"z\")\n",
    "plt.ylabel(r\"$\\beta$\")"
   ]
  },
  {
   "cell_type": "code",
   "execution_count": 28,
   "id": "7c407743-3e3b-40b5-9774-531c906945ec",
   "metadata": {},
   "outputs": [
    {
     "data": {
      "text/plain": [
       "Text(0, 0.5, '$\\\\mathcal{M}$')"
      ]
     },
     "execution_count": 28,
     "metadata": {},
     "output_type": "execute_result"
    },
    {
     "data": {
      "image/png": "[encoded data removed]",
      "text/plain": [
       "<Figure size 432x288 with 1 Axes>"
      ]
     },
     "metadata": {
      "needs_background": "light"
     },
     "output_type": "display_data"
    }
   ],
   "source": [
    "plt.plot(red_mean,np.array(M_red_dep),'.')\n",
    "plt.xlabel(\"z\")\n",
    "plt.ylabel(r\"$\\mathcal{M}$\")"
   ]
  },
  {
   "cell_type": "code",
   "execution_count": 29,
   "id": "511354c6-0a3b-4a4d-b140-645290e4a712",
   "metadata": {},
   "outputs": [
    {
     "data": {
      "text/plain": [
       "Text(0, 0.5, '$\\\\sigma_{int}$')"
      ]
     },
     "execution_count": 29,
     "metadata": {},
     "output_type": "execute_result"
    },
    {
     "data": {
      "image/png": "[encoded data removed]",
      "text/plain": [
       "<Figure size 432x288 with 1 Axes>"
      ]
     },
     "metadata": {
      "needs_background": "light"
     },
     "output_type": "display_data"
    }
   ],
   "source": [
    "plt.plot(red_mean,np.array(sig_int_red_dep),'.')\n",
    "plt.xlabel(\"z\")\n",
    "plt.ylabel(r\"$\\sigma_{int}$\")"
   ]
  }
 ],
 "metadata": {
  "kernelspec": {
   "display_name": "Python 3 (ipykernel)",
   "language": "python",
   "name": "python3"
  },
  "language_info": {
   "codemirror_mode": {
    "name": "ipython",
    "version": 3
   },
   "file_extension": ".py",
   "mimetype": "text/x-python",
   "name": "python",
   "nbconvert_exporter": "python",
   "pygments_lexer": "ipython3",
   "version": "3.10.5"
  }
 },
 "nbformat": 4,
 "nbformat_minor": 5
}
